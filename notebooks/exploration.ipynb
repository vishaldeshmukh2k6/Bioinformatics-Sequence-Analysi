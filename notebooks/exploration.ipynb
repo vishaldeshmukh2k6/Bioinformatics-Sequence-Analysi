{
 "cells": [
  {
   "cell_type": "code",
   "execution_count": null,
   "id": "2ae8ea40",
   "metadata": {
    "vscode": {
     "languageId": "plaintext"
    }
   },
   "outputs": [],
   "source": [
    "from src.io_utils import load_fasta\n",
    "from src.preprocess import clean_sequences\n",
    "from src.analysis import motif_count, gc_content\n",
    "from src.alignments import hamming_distance\n",
    "from src.mutations import mutate_sequence\n",
    "\n",
    "# Step 1: Load sequences\n",
    "sequences = load_fasta('data/raw/sample.fasta')\n",
    "print(f\"Loaded {len(sequences)} sequences\")\n",
    "\n",
    "# Step 2: Clean sequences\n",
    "cleaned = clean_sequences(sequences)\n",
    "print(f\"{len(cleaned)} sequences after cleaning\")\n",
    "\n",
    "# Step 3: Basic Analysis\n",
    "motif = 'ATG'\n",
    "counts = motif_count(cleaned, motif)\n",
    "print(f\"Motif '{motif}' counts: {counts}\")\n",
    "\n",
    "gc = [gc_content(seq) for seq in cleaned]\n",
    "print(f\"Average GC content: {sum(gc)/len(gc):.3f}\")\n",
    "\n",
    "# Step 4: Compare two sequences\n",
    "if len(cleaned) >= 2:\n",
    "    dist = hamming_distance(cleaned[0], cleaned[1])\n",
    "    print(f\"Hamming distance between first two sequences: {dist}\")\n",
    "\n",
    "# Step 5: Mutation example\n",
    "print(\"Original:\", cleaned[0])\n",
    "print(\"Mutated:\", mutate_sequence(cleaned[0], mutation_rate=0.05))\n"
   ]
  }
 ],
 "metadata": {
  "language_info": {
   "name": "python"
  }
 },
 "nbformat": 4,
 "nbformat_minor": 5
}
